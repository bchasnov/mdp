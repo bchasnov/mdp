{
 "cells": [
  {
   "cell_type": "markdown",
   "metadata": {},
   "source": [
    "## Primal problem"
   ]
  },
  {
   "cell_type": "markdown",
   "metadata": {},
   "source": [
    "\\begin{equation}\n",
    "\\begin{aligned}\n",
    "\\underset{\\substack{y_t\\\\ t\\in\\mathcal{T}}}{\\mbox{min.}} & \\sum\\limits_{t\\in\\mathcal{T}}\\sum\\limits_{s\\in\\mathcal{S}} \\sum\\limits_{a\\in\\mathcal{A}} y_t(s, a)c_t(s, a) & (1)\\\\\n",
    "\\mbox{s.t.} &\\sum\\limits_{a\\in\\mathcal{A}} y_{t+1}(s', a) = \\sum\\limits_{s\\in\\mathcal{S}}\\sum\\limits_{a\\in\\mathcal{A}}\\Gamma(s'\\mid s, a)y_t(s, a), & (2, 3)\\\\\n",
    "&\\sum\\limits_{a\\in\\mathcal{A}}y_0(s, a)=p_0(s) & (4)\\\\\n",
    "&y_t(s, a)\\geq 0 \\\\\n",
    "&\\forall s, s'\\in\\mathcal{S}, a\\in\\mathcal{A}, t\\in\\mathcal{T}\n",
    "\\end{aligned}\\label{Primal MDP}\n",
    "\\end{equation}"
   ]
  },
  {
   "cell_type": "code",
   "execution_count": 125,
   "metadata": {},
   "outputs": [
    {
     "name": "stdout",
     "output_type": "stream",
     "text": [
      "-----------------------------------------------------------------\n",
      "           OSQP v0.3.1  -  Operator Splitting QP Solver\n",
      "              (c) Bartolomeo Stellato,  Goran Banjac\n",
      "        University of Oxford  -  Stanford University 2018\n",
      "-----------------------------------------------------------------\n",
      "problem:  variables n = 330, constraints m = 440\n",
      "          nnz(P) + nnz(A) = 3990\n",
      "settings: linear system solver = suitesparse ldl,\n",
      "          eps_abs = 1.0e-03, eps_rel = 1.0e-03,\n",
      "          eps_prim_inf = 1.0e-04, eps_dual_inf = 1.0e-04,\n",
      "          rho = 1.00e-01 (adaptive),\n",
      "          sigma = 1.00e-06, alpha = 1.60, max_iter = 4000\n",
      "          check_termination: on (interval 25),\n",
      "          scaling: on, scaled_termination: off\n",
      "          warm start: on, polish: on\n",
      "\n",
      "iter   objective    pri res    dua res    rho        time\n",
      "   1  -8.1320e+02   1.80e+01   1.66e+01   1.00e-01   6.84e-04s\n",
      "  75   2.0876e+00   4.44e-04   1.36e-03   1.09e+00   1.83e-03s\n",
      "plsh   2.0872e+00   4.16e-17   7.77e-16   --------   2.61e-03s\n",
      "\n",
      "status:               solved\n",
      "solution polish:      successful\n",
      "number of iterations: 75\n",
      "optimal objective:    2.0872\n",
      "run time:             2.61e-03s\n",
      "optimal rho estimate: 1.57e+00\n",
      "\n",
      "CPU times: user 1.76 s, sys: 14.9 ms, total: 1.77 s\n",
      "Wall time: 1.78 s\n"
     ]
    }
   ],
   "source": [
    "''' bchasnov@uw.edu '''\n",
    "import numpy as np\n",
    "import cvxpy as cp\n",
    "import matplotlib.pyplot as plt\n",
    "\n",
    "########################\n",
    "##### Setup random problem\n",
    "########################\n",
    "\n",
    "tt = 11\n",
    "n = 10\n",
    "m = 3\n",
    "\n",
    "S = list(range(n))\n",
    "A = list(range(m))\n",
    "T = list(range(tt))\n",
    "\n",
    "np.random.seed(0)\n",
    "p0 = np.random.rand(n)\n",
    "p0 = p0/p0.sum()\n",
    "\n",
    "P = np.zeros((n, n, m))\n",
    "for sp in S:\n",
    "    for a in A:\n",
    "        r = np.random.rand(n)\n",
    "        P[sp, :, a] = r/r.sum()\n",
    "        \n",
    "C = np.random.rand(t, n, m)\n",
    "\n",
    "########################\n",
    "##### Formulate LP problem\n",
    "########################\n",
    "\n",
    "# Primal variable\n",
    "y = [cp.Variable((n, m)) for t in T] # cvxpy doesn't support tensors\n",
    "\n",
    "# Cost to minimize (1)\n",
    "cost = cp.sum([y[t][s, a] * C[t, s, a] for t in T for a in A for s in S])\n",
    "\n",
    "\n",
    "# Mass propagation (2)\n",
    "y_tp1 = [cp.sum([y[t][sp, a] \n",
    "                 for a in A])         # Sum over actions\n",
    "         for t in T[1:] for sp in S ] # For time 1 to T and all states\n",
    "\n",
    "# (3)\n",
    "Py_t = [cp.sum([P[sp, s, a] * y[t][s, a] \n",
    "                for a in A for s in S]) # Sum over actions and state\n",
    "         for t in T[:-1] for sp in S ]  # For time 0 to T-1 and all future states\n",
    "\n",
    "\n",
    "# Initial mass (4)\n",
    "y_0 = [cp.sum([y[0][s, a] for a in A]) for s in S]\n",
    "\n",
    "objective = cp.Minimize(cost)\n",
    "constraints = [tmp1 == tmp2 for tmp1, tmp2 in zip(y_tp1, Py_t)] +  \\\n",
    "              [tmp1 == tmp2 for tmp1, tmp2 in zip(y_0, p0)] + \\\n",
    "              [tmp >= 0 for tmp in y]\n",
    "\n",
    "# Solve\n",
    "prob = cp.Problem(objective, constraints)\n",
    "%time result = prob.solve(verbose=True)"
   ]
  },
  {
   "cell_type": "markdown",
   "metadata": {},
   "source": [
    "## Dual problem\n",
    "\\begin{equation}\n",
    "\\begin{aligned}\n",
    "\\text{maximize} & \\sum_{s}V_0(s)p_0(s)  \\\\\n",
    "&V_T(s)=c_T(s, a)-\\mu_T(s, a),\\\\\n",
    "&V_t(s)=c_t(s, a)+\\sum\\limits_{s'\\in\\mathcal{S}}\\Gamma(s'\\mid s, a) V_{t+1}(s') -\\mu_t(s, a),\n",
    "\\end{aligned}\\label{MDP: vanishing gradient}\n",
    "\\end{equation}\n"
   ]
  },
  {
   "cell_type": "code",
   "execution_count": 139,
   "metadata": {},
   "outputs": [
    {
     "name": "stdout",
     "output_type": "stream",
     "text": [
      "-----------------------------------------------------------------\n",
      "           OSQP v0.3.1  -  Operator Splitting QP Solver\n",
      "              (c) Bartolomeo Stellato,  Goran Banjac\n",
      "        University of Oxford  -  Stanford University 2018\n",
      "-----------------------------------------------------------------\n",
      "problem:  variables n = 440, constraints m = 110\n",
      "          nnz(P) + nnz(A) = 1880\n",
      "settings: linear system solver = suitesparse ldl,\n",
      "          eps_abs = 1.0e-03, eps_rel = 1.0e-03,\n",
      "          eps_prim_inf = 1.0e-04, eps_dual_inf = 1.0e-04,\n",
      "          rho = 1.00e-01 (adaptive),\n",
      "          sigma = 1.00e-06, alpha = 1.60, max_iter = 4000\n",
      "          check_termination: on (interval 25),\n",
      "          scaling: on, scaled_termination: off\n",
      "          warm start: on, polish: on\n",
      "\n",
      "iter   objective    pri res    dua res    rho        time\n",
      "   1  -1.0112e+06   2.72e+00   8.02e+01   1.00e-01   4.47e-04s\n",
      "  25  -1.0000e+20   8.37e-04   1.38e-01   1.00e-01   7.14e-04s\n",
      "\n",
      "status:               dual infeasible\n",
      "number of iterations: 25\n",
      "run time:             1.05e-03s\n",
      "optimal rho estimate: 1.87e-03\n",
      "\n",
      "CPU times: user 1.72 s, sys: 12.2 ms, total: 1.74 s\n",
      "Wall time: 1.75 s\n"
     ]
    }
   ],
   "source": [
    "v = [cp.Variable(n) for t in T]\n",
    "mu = [cp.Variable((n, m)) for t in T]\n",
    "\n",
    "# Cost to go at time 0\n",
    "ctg_0 = cp.sum([v[0][s] * p0[s] for s in S])\n",
    "\n",
    "# Final state\n",
    "cT_uT = [cp.sum([C[-1, s, a] - mu[-1][s, a] for a in A]) for s in S]\n",
    "\n",
    "value = [v[t][s] \n",
    "         for t in T[:-1] for s in S]\n",
    "bellman = [np.sum([C[t, s, a] + cp.sum([P[sp, s, a] * v[t+1][sp] for sp in S]) - mu[t][s, a] for a in A])\n",
    "            for t in T[:-1] for s in S]\n",
    "\n",
    "\n",
    "constraints = [v[-1][s] == cT_uT[s] for s in S] + \\\n",
    "              [tmp1 == tmp2 for tmp1, tmp2 in zip(value, bellman)]\n",
    "\n",
    "objective = cp.Maximize(ctg_0)\n",
    "problem = cp.Problem(objective, constraints)\n",
    "%time result = problem.solve(verbose=True)"
   ]
  },
  {
   "cell_type": "code",
   "execution_count": null,
   "metadata": {},
   "outputs": [],
   "source": []
  },
  {
   "cell_type": "code",
   "execution_count": null,
   "metadata": {},
   "outputs": [],
   "source": []
  }
 ],
 "metadata": {
  "kernelspec": {
   "display_name": "Python [default]",
   "language": "python",
   "name": "python3"
  },
  "language_info": {
   "codemirror_mode": {
    "name": "ipython",
    "version": 3
   },
   "file_extension": ".py",
   "mimetype": "text/x-python",
   "name": "python",
   "nbconvert_exporter": "python",
   "pygments_lexer": "ipython3",
   "version": "3.5.2"
  }
 },
 "nbformat": 4,
 "nbformat_minor": 2
}
