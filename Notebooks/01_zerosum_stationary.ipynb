{
 "cells": [
  {
   "cell_type": "code",
   "execution_count": 92,
   "metadata": {},
   "outputs": [],
   "source": [
    "import numpy as np\n",
    "import cvxpy as cp\n",
    "import matplotlib.pyplot as plt\n",
    "\n",
    "# Zero sum game\n",
    "A = np.array([[3, -1, 0, -1],\n",
    "              [4,  1, 2,  0],\n",
    "              [-1, 0, 1,  0]])\n",
    "\n",
    "n_y, n_x = A.shape\n",
    "\n",
    "\n",
    "# Solve for the min agent\n",
    "v1 = cp.Variable(1)\n",
    "y = cp.Variable(n_y)\n",
    "\n",
    "objective1 = cp.Minimize(v1)\n",
    "constraints1 = [y >= 0, \n",
    "                cp.sum(y) == 1, \n",
    "                A.T @ y <= v1 * np.ones(n_x)]\n",
    "\n",
    "prob1 = cp.Problem(objective1, constraints1)\n",
    "result1 = prob1.solve()\n",
    "\n",
    "\n",
    "# Solve for the max agent\n",
    "v2 = cp.Variable(1)\n",
    "x = cp.Variable(n_x)\n",
    "\n",
    "objective2 = cp.Maximize(v2)\n",
    "constraints2 = [x >= 0, \n",
    "                cp.sum(x) == 1, \n",
    "                A @ x >= v2 * np.ones(n_y)]\n",
    "\n",
    "prob2 = cp.Problem(objective2, constraints2)\n",
    "result2 = prob2.solve()"
   ]
  },
  {
   "cell_type": "markdown",
   "metadata": {},
   "source": [
    "We wish to find the mixed saddle-point equilibrium of a zero-sum game. Players $x,y$ each obtain payoff $y^T A x$. Our goal is to compute $$\\min_y \\max_x y^T A x$$\n",
    "where $\\sum y = 1$ and $\\sum x = 1.$\n",
    "\n",
    "$\\newcommand{\\bone}{\\textbf{1}}$\n",
    "\\begin{align*}\n",
    "    \\min_{v,y}. \\quad & v             & \\max_{v,x}. \\quad & v\\\\\n",
    "    \\text{s.t.} \\quad & y \\geq 0      & \\text{s.t.} \\quad & x \\geq 0\\\\\n",
    "    & \\bone y = 1                     & & \\bone x = 1 \\\\\n",
    "    & A^Ty \\leq v \\bone               & & Ax \\geq v \\bone\n",
    "\\end{align*}\n",
    "\n",
    "**Lemma** Consider $x \\in \\Delta$, \n"
   ]
  },
  {
   "cell_type": "code",
   "execution_count": 91,
   "metadata": {},
   "outputs": [
    {
     "name": "stdout",
     "output_type": "stream",
     "text": [
      "x = [ 0.2 -0.   0.8 -0. ] \n",
      "y = [ 0.4 -0.   0.6] \n",
      "\n",
      "v = 0.6 \n",
      "v = 0.6\n"
     ]
    }
   ],
   "source": [
    "print(\"x = %s \\ny = %s \\n\\nv = %s \\nv = %s\" % (x.value.round(3), \n",
    "                                     y.value.round(3),\n",
    "                                     v1.value[0].round(3),\n",
    "                                     v2.value[0].round(3)))"
   ]
  },
  {
   "cell_type": "code",
   "execution_count": null,
   "metadata": {},
   "outputs": [],
   "source": []
  },
  {
   "cell_type": "code",
   "execution_count": null,
   "metadata": {},
   "outputs": [],
   "source": []
  },
  {
   "cell_type": "code",
   "execution_count": null,
   "metadata": {},
   "outputs": [],
   "source": []
  },
  {
   "cell_type": "code",
   "execution_count": null,
   "metadata": {},
   "outputs": [],
   "source": []
  }
 ],
 "metadata": {
  "kernelspec": {
   "display_name": "Python [default]",
   "language": "python",
   "name": "python3"
  },
  "language_info": {
   "codemirror_mode": {
    "name": "ipython",
    "version": 3
   },
   "file_extension": ".py",
   "mimetype": "text/x-python",
   "name": "python",
   "nbconvert_exporter": "python",
   "pygments_lexer": "ipython3",
   "version": "3.5.2"
  }
 },
 "nbformat": 4,
 "nbformat_minor": 2
}
