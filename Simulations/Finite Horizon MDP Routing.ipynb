{
 "cells": [
  {
   "cell_type": "code",
   "execution_count": 9,
   "metadata": {},
   "outputs": [],
   "source": [
    "from cvxpy import *\n",
    "import numpy as np\n",
    "import networkx as nx\n",
    "import scipy.linalg as sla\n",
    "import mosek\n",
    "import matplotlib.pyplot as plt\n",
    "%precision %.2f\n",
    "np.set_printoptions(precision=2)"
   ]
  },
  {
   "cell_type": "code",
   "execution_count": 16,
   "metadata": {},
   "outputs": [
    {
     "data": {
      "image/png": "[encoded data removed]",
      "text/plain": [
       "<matplotlib.figure.Figure at 0xd653e48>"
      ]
     },
     "metadata": {},
     "output_type": "display_data"
    }
   ],
   "source": [
    "# networks Set up \n",
    "# Create Graph Object\n",
    "rowSize = 3; colSize = 5;\n",
    "\n",
    "G = nx.grid_graph([rowSize,colSize])\n",
    "e = G.number_of_edges();\n",
    "v = G.number_of_nodes();\n",
    "\n",
    "\n",
    "# --------Source Vector set up ----------------#\n",
    "sourceNode = 14; \n",
    "sinkNode = 7;\n",
    "sourceVec = np.zeros((v));\n",
    "sourceVec[sourceNode] = -1;\n",
    "sourceVec[sinkNode] = 1;\n",
    "\n",
    "#---------Draw Graph---------#\n",
    "G = nx.convert_node_labels_to_integers(G)\n",
    "nx.draw(G, node_color='g', edge_color='k', with_labels=True, font_weight='bold')\n",
    "edgeList = list(G.edges);"
   ]
  },
  {
   "cell_type": "code",
   "execution_count": 11,
   "metadata": {},
   "outputs": [],
   "source": [
    "def generateMDP(S,A):\n",
    "    \"\"\"\n",
    "    Generates a random MDP with finite sets X and U such that |X|=S and |U|=A.\n",
    "    \n",
    "    Parameters\n",
    "    ----------\n",
    "    S : int\n",
    "        Cardinality of state space.\n",
    "    A : int\n",
    "        Cardinality of input space.\n",
    "        \n",
    "    Returns\n",
    "    -------\n",
    "    P : (S,S,A) array\n",
    "        Transition probability tensor such that ``P[i,j,k]=prob(x_next=i | x_now=j, u_now=k)``.\n",
    "    c : (S,A) array\n",
    "        Cost such that ``c[i,j]=cost(x_now=i,u_now=j)``.\n",
    "    \"\"\"\n",
    "    P, c = np.zeros((S,S,A)), np.random.uniform(size=(S,A))\n",
    "    for j in range(S):\n",
    "        for k in range(A):\n",
    "            P[:,j,k] = np.random.uniform(size=S)\n",
    "            P[:,j,k] /= np.sum(P[:,j,k])\n",
    "    return P, c"
   ]
  },
  {
   "cell_type": "code",
   "execution_count": null,
   "metadata": {},
   "outputs": [],
   "source": []
  },
  {
   "cell_type": "code",
   "execution_count": 38,
   "metadata": {},
   "outputs": [],
   "source": [
    "states = 5; actions = 3;\n",
    "P,c = generateMDP(S=states,A=actions);\n"
   ]
  },
  {
   "cell_type": "code",
   "execution_count": 74,
   "metadata": {},
   "outputs": [
    {
     "ename": "NameError",
     "evalue": "name 'RouteMat' is not defined",
     "output_type": "error",
     "traceback": [
      "\u001b[1;31m---------------------------------------------------------------------------\u001b[0m",
      "\u001b[1;31mNameError\u001b[0m                                 Traceback (most recent call last)",
      "\u001b[1;32m<ipython-input-74-c188f1494351>\u001b[0m in \u001b[0;36m<module>\u001b[1;34m()\u001b[0m\n\u001b[0;32m     18\u001b[0m \u001b[0mmdpObj\u001b[0m \u001b[1;33m=\u001b[0m \u001b[0mMinimize\u001b[0m\u001b[1;33m(\u001b[0m\u001b[0msum\u001b[0m\u001b[1;33m(\u001b[0m\u001b[1;33m[\u001b[0m\u001b[0mtrace\u001b[0m\u001b[1;33m(\u001b[0m\u001b[0mc\u001b[0m\u001b[1;33m.\u001b[0m\u001b[0mT\u001b[0m\u001b[1;33m*\u001b[0m\u001b[0my\u001b[0m\u001b[1;33m[\u001b[0m\u001b[0mi\u001b[0m\u001b[1;33m]\u001b[0m\u001b[1;33m)\u001b[0m \u001b[1;32mfor\u001b[0m \u001b[0mi\u001b[0m \u001b[1;32min\u001b[0m \u001b[0mrange\u001b[0m\u001b[1;33m(\u001b[0m\u001b[0mtime\u001b[0m\u001b[1;33m)\u001b[0m\u001b[1;33m]\u001b[0m\u001b[1;33m)\u001b[0m\u001b[1;33m)\u001b[0m\u001b[1;33m\u001b[0m\u001b[0m\n\u001b[0;32m     19\u001b[0m mdpConstraints = [0 <= y, \n\u001b[1;32m---> 20\u001b[1;33m                   \u001b[0mRouteMat\u001b[0m\u001b[1;33m*\u001b[0m\u001b[0mz\u001b[0m \u001b[1;33m==\u001b[0m \u001b[0mx\u001b[0m\u001b[1;33m,\u001b[0m\u001b[1;33m\u001b[0m\u001b[0m\n\u001b[0m\u001b[0;32m     21\u001b[0m                   sum(z) == mass]\n\u001b[0;32m     22\u001b[0m \u001b[0mmdpPolicy\u001b[0m \u001b[1;33m=\u001b[0m \u001b[0mProblem\u001b[0m\u001b[1;33m(\u001b[0m\u001b[0mmdpObj\u001b[0m\u001b[1;33m)\u001b[0m\u001b[1;33m\u001b[0m\u001b[0m\n",
      "\u001b[1;31mNameError\u001b[0m: name 'RouteMat' is not defined"
     ]
    }
   ],
   "source": [
    "# Construct the problem.\n",
    "#----------------MDP Routing Game--------------------\n",
    "mass = 10.0;\n",
    "initP = sourceVec*mass;\n",
    "time = 10;\n",
    "R = np.zeros((time, states, actions))\n",
    "# Construct the time dependent reward\n",
    "for t in range(0,time):\n",
    "    R[t,:,:] = c;\n",
    "\n",
    "# y = Variable(time,states,actions);\n",
    "\n",
    "# mdpPot = R[0,:,:].dot(y[0,i,i]);\n",
    "# x is 3D array with dimensions p x q x r.\n",
    "y = {};\n",
    "for i in range(time):\n",
    "    y[i] = Variable(states, actions);\n",
    "mdpObj = Minimize(sum([trace(c.T*y[i]) for i in range(time)]))\n",
    "mdpConstraints = [0 <= y]\n",
    "for i in range(time):\n",
    "    mdpConstraints = mdpConstraints + [sum(y[i][:,i]) <= ]\n",
    "mdpPolicy = Problem(mdpObj)\n",
    "mdpRes = mdpPolicy.solve(solver=MOSEK)"
   ]
  }
 ],
 "metadata": {
  "kernelspec": {
   "display_name": "Python 2",
   "language": "python",
   "name": "python2"
  },
  "language_info": {
   "codemirror_mode": {
    "name": "ipython",
    "version": 2
   },
   "file_extension": ".py",
   "mimetype": "text/x-python",
   "name": "python",
   "nbconvert_exporter": "python",
   "pygments_lexer": "ipython2",
   "version": "2.7.14"
  }
 },
 "nbformat": 4,
 "nbformat_minor": 2
}
